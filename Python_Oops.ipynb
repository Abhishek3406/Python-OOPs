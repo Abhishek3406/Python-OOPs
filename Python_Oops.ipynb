{
  "nbformat": 4,
  "nbformat_minor": 0,
  "metadata": {
    "colab": {
      "provenance": [],
      "collapsed_sections": [
        "LlowOkFF7L7a",
        "mc8OSpbl8aZm",
        "bCV6bV3u8qEe",
        "z6zsxArm80oJ",
        "DZiksE2Q9Ddv",
        "A0b-Pcpx9W5y",
        "j377vClB9gu7",
        "LE8tCYUE9_QL",
        "1J_nO4wJ-jb5",
        "rHQGLJ-G-_kq",
        "fNi0ZgxEvN-X",
        "pA_9RbZqO2Ir",
        "3L54T5AcO-v9",
        "Ko69iDcePFWe",
        "_jBZBzRiPOay",
        "3O94y4tPPdKw",
        "_YJ0odPTPmD3",
        "19q9EBMbPwXy"
      ]
    },
    "kernelspec": {
      "name": "python3",
      "display_name": "Python 3"
    },
    "language_info": {
      "name": "python"
    }
  },
  "cells": [
    {
      "cell_type": "markdown",
      "source": [
        "#OOPs\n"
      ],
      "metadata": {
        "id": "Kyaw0XST08TG"
      }
    },
    {
      "cell_type": "markdown",
      "source": [
        "### Q1. What is Object-Oriented Programming (OOP)?\n",
        "  - OOP is a programming paradigm based on objects, which combine data (attributes) and behavior (methods). It promotes concepts like encapsulation, inheritance, and polymorphism.\n"
      ],
      "metadata": {
        "id": "A4upm8iP0zE2"
      }
    },
    {
      "cell_type": "markdown",
      "source": [
        "### Q2. What is a class in OOP?\n",
        "  - A class is a blueprint for creating objects. It defines attributes and methods that its instances (objects) will have."
      ],
      "metadata": {
        "id": "XSJHK416hWHL"
      }
    },
    {
      "cell_type": "markdown",
      "source": [
        "### Q3. What is an object in OOP?\n",
        "  - An object is an instance of a class. It represents a specific \"thing\" with state (attributes) and behavior (methods)."
      ],
      "metadata": {
        "id": "L3iF2zjMi7oC"
      }
    },
    {
      "cell_type": "markdown",
      "source": [
        "### Q4. What is the difference between abstraction and encapsulation?\n",
        "  - Abstraction: Hides complex implementation details and shows only the essential features (focus on what).\n",
        "\n",
        "  - Encapsulation: Restricts access to data by bundling data and methods together and using access modifiers (focus on how).\n",
        "\n"
      ],
      "metadata": {
        "id": "tZytMs5AjQ8J"
      }
    },
    {
      "cell_type": "markdown",
      "source": [
        "### Q5. What are dunder methods in Python?\n",
        "  - Dunder (double underscore) methods are special methods like __init__, __str__, __add__, etc., used to define behavior for built-in operations."
      ],
      "metadata": {
        "id": "tMdJVqSnjcpm"
      }
    },
    {
      "cell_type": "markdown",
      "source": [
        "### Q6. Explain the concept of inheritance in OOP\n",
        "  - Inheritance allows a class (child) to inherit attributes and methods from another class (parent), promoting reusability."
      ],
      "metadata": {
        "id": "KpBo4qbGjoRm"
      }
    },
    {
      "cell_type": "markdown",
      "source": [
        "### Q7. What is polymorphism in OOP?\n",
        "  - Polymorphism allows different classes to be treated as instances of the same class through a common interface, typically using method overriding."
      ],
      "metadata": {
        "id": "uX1_SRvjjwdF"
      }
    },
    {
      "cell_type": "markdown",
      "source": [
        "### Q8.How is encapsulation achieved in Python?\n",
        "  - By using private (_ or __) variables and providing public getter/setter methods to control access."
      ],
      "metadata": {
        "id": "folf8IJzj4NP"
      }
    },
    {
      "cell_type": "markdown",
      "source": [
        "### Q9. What is a constructor in Python?\n",
        "  - The __init__ method is the constructor in Python. It’s automatically called when a new object is created.\n",
        "\n"
      ],
      "metadata": {
        "id": "zPWtnW1wkAcn"
      }
    },
    {
      "cell_type": "markdown",
      "source": [
        "### Q10. What are class and static methods in Python?\n",
        "  - Class method (@classmethod) takes cls and can modify class state.\n",
        "  - Static method (@staticmethod) takes no self or cls; behaves like a regular function within the class.\n"
      ],
      "metadata": {
        "id": "ioiYS2rzkHCb"
      }
    },
    {
      "cell_type": "markdown",
      "source": [
        "### Q11.What is method overloading in Python?\n",
        "  - Python doesn’t support traditional method overloading but can mimic it using default or variable-length arguments."
      ],
      "metadata": {
        "id": "5liObLPPkkjF"
      }
    },
    {
      "cell_type": "markdown",
      "source": [
        "### Q12.What is method overriding in OOP?\n",
        "  - Overriding is when a subclass provides a specific implementation of a method already defined in its parent class."
      ],
      "metadata": {
        "id": "4VGjgBtMHr4_"
      }
    },
    {
      "cell_type": "markdown",
      "source": [
        "### Q13. What is a property decorator in Python?\n",
        "  - @property is used to make a method behave like an attribute and often used for getters/setters."
      ],
      "metadata": {
        "id": "mhgiY9EAHsgJ"
      }
    },
    {
      "cell_type": "markdown",
      "source": [
        "### Q14. Why is polymorphism important in OOP?\n",
        "  - It enables flexibility and code reusability by allowing different classes to be treated through a common interface, improving extensibility."
      ],
      "metadata": {
        "id": "0-RrIiJIHs_H"
      }
    },
    {
      "cell_type": "markdown",
      "source": [
        "### Q15. What is an abstract class in Python?\n",
        "  - An abstract class (from abc module) cannot be instantiated and must have at least one abstract method that subclasses must implement."
      ],
      "metadata": {
        "id": "lIqHZGO-Htdt"
      }
    },
    {
      "cell_type": "markdown",
      "source": [
        "### Q16. What are the advantages of OOP?\n",
        "  - Code reusability (Inheritance)\n",
        "\n",
        "  - Data security (Encapsulation)\n",
        "\n",
        "  - Flexibility and extensibility (Polymorphism)\n",
        "\n",
        "  - Real-world modeling"
      ],
      "metadata": {
        "id": "COoorb-RHuCd"
      }
    },
    {
      "cell_type": "markdown",
      "source": [
        "### Q17. What is the difference between a class variable and an instance variable?\n",
        "  - Class variable: Shared across all instances.\n",
        "\n",
        "  - Instance variable: Unique to each object."
      ],
      "metadata": {
        "id": "Xn71EJRgIQo7"
      }
    },
    {
      "cell_type": "markdown",
      "source": [
        "### Q18. What is multiple inheritance in Python?\n",
        "  - A class can inherit from multiple classes. Python supports this via the MRO (Method Resolution Order)."
      ],
      "metadata": {
        "id": "879bYMp_IRCX"
      }
    },
    {
      "cell_type": "markdown",
      "source": [
        "### Q19. Explain the purpose of __str__ and __repr__ methods in Python.\n",
        "  - __str__: For human-readable string (e.g., print()).\n",
        "\n",
        "  - __repr__: For unambiguous representation (e.g., debugging)."
      ],
      "metadata": {
        "id": "A5Ev79UFIR1I"
      }
    },
    {
      "cell_type": "markdown",
      "source": [
        "### Q20. What is the significance of the super() function in Python?\n",
        "  - super() allows you to call methods from a parent class. Useful for extending inherited behavior."
      ],
      "metadata": {
        "id": "7oLlYPQKISVM"
      }
    },
    {
      "cell_type": "markdown",
      "source": [
        "### Q21. What is the significance of the __del__ method in Python?\n",
        "  - __del__ is a destructor method called when an object is garbage collected. Used to free resources (not recommended for critical logic)."
      ],
      "metadata": {
        "id": "q2dLnmFuJAG7"
      }
    },
    {
      "cell_type": "markdown",
      "source": [
        "### Q22. What is the difference between @staticmethod and @classmethod in Python?\n",
        "  - @staticmethod: No access to class or instance (self/cls).\n",
        "\n",
        "  - @classmethod: Accesses the class (cls) but not the instance."
      ],
      "metadata": {
        "id": "MyBCM3kzI_kd"
      }
    },
    {
      "cell_type": "markdown",
      "source": [
        "### Q23. How does polymorphism work in Python with inheritance?\n"
      ],
      "metadata": {
        "id": "SdCBJDQbI_Xx"
      }
    },
    {
      "cell_type": "code",
      "source": [
        "class Animal:\n",
        "    def speak(self): pass\n",
        "\n",
        "class Dog(Animal):\n",
        "    def speak(self): return \"Bark\"\n",
        "\n",
        "class Cat(Animal):\n",
        "    def speak(self): return \"Meow\"\n",
        "\n",
        "for animal in [Dog(), Cat()]:\n",
        "    print(animal.speak())"
      ],
      "metadata": {
        "id": "PynVs2GrJpTQ"
      },
      "execution_count": null,
      "outputs": []
    },
    {
      "cell_type": "markdown",
      "source": [
        "### Q24.What is method chaining in Python OOP?\n",
        "  - Calling multiple methods in a single line, by returning self from each method."
      ],
      "metadata": {
        "id": "vIXCnoB2Jqja"
      }
    },
    {
      "cell_type": "markdown",
      "source": [
        "### Q25. What is the purpose of the __call__ method in Python?\n",
        "  - It makes an object callable like a function."
      ],
      "metadata": {
        "id": "HCWyr-lsJyQo"
      }
    },
    {
      "cell_type": "markdown",
      "source": [
        "# Practical Questions"
      ],
      "metadata": {
        "id": "5XERkD-105PV"
      }
    },
    {
      "cell_type": "markdown",
      "source": [
        "### Q1. Create a parent class Animal with a method speak() that prints a generic message. Create a child class Dog that overrides the speak() method to print \"Bark!\".\n",
        "\n"
      ],
      "metadata": {
        "id": "LlowOkFF7L7a"
      }
    },
    {
      "cell_type": "code",
      "source": [
        "class Animal:\n",
        "    def speak(self):\n",
        "        print(\"This animal makes a sound.\")\n",
        "\n",
        "class Dog(Animal):\n",
        "    def speak(self):\n",
        "        print(\"Bark!\")\n",
        "\n",
        "dog = Dog()\n",
        "dog.speak()"
      ],
      "metadata": {
        "colab": {
          "base_uri": "https://localhost:8080/"
        },
        "id": "OWHvGZQF7fHY",
        "outputId": "0a546404-dccc-41e7-d3ba-ab49d7690037"
      },
      "execution_count": 1,
      "outputs": [
        {
          "output_type": "stream",
          "name": "stdout",
          "text": [
            "Bark!\n"
          ]
        }
      ]
    },
    {
      "cell_type": "markdown",
      "source": [
        "### Q2. Write a program to create an abstract class Shape with a method area(). Derive classes Circle and Rectangle from it and implement the area() method in both.\n",
        "\n",
        "\n"
      ],
      "metadata": {
        "id": "mc8OSpbl8aZm"
      }
    },
    {
      "cell_type": "code",
      "source": [
        "from abc import ABC, abstractmethod\n",
        "\n",
        "class Shape(ABC):\n",
        "    @abstractmethod\n",
        "    def area(self):\n",
        "        pass\n",
        "\n",
        "class Circle(Shape):\n",
        "    def __init__(self, radius):\n",
        "        self.radius = radius\n",
        "\n",
        "    def area(self):\n",
        "        return 3.14 * self.radius ** 2\n",
        "\n",
        "class Rectangle(Shape):\n",
        "    def __init__(self, width, height):\n",
        "        self.width = width\n",
        "        self.height = height\n",
        "\n",
        "    def area(self):\n",
        "        return self.width * self.height\n",
        "\n",
        "c = Circle(5)\n",
        "r = Rectangle(4, 6)\n",
        "print(c.area(), r.area())\n"
      ],
      "metadata": {
        "colab": {
          "base_uri": "https://localhost:8080/"
        },
        "id": "T73vMJzc8YmF",
        "outputId": "9e676804-5b40-458c-d770-9d3b3b2f9bbf"
      },
      "execution_count": 2,
      "outputs": [
        {
          "output_type": "stream",
          "name": "stdout",
          "text": [
            "78.5 24\n"
          ]
        }
      ]
    },
    {
      "cell_type": "markdown",
      "source": [
        "### Q3. Implement a multi-level inheritance scenario where a class Vehicle has an attribute type. Derive a class Car and further derive a class ElectricCar that adds a battery attribute.\n",
        "\n"
      ],
      "metadata": {
        "id": "bCV6bV3u8qEe"
      }
    },
    {
      "cell_type": "code",
      "source": [
        "class Vehicle:\n",
        "    def __init__(self, type):\n",
        "        self.type = type\n",
        "\n",
        "class Car(Vehicle):\n",
        "    def __init__(self, type, brand):\n",
        "        super().__init__(type)\n",
        "        self.brand = brand\n",
        "\n",
        "class ElectricCar(Car):\n",
        "    def __init__(self, type, brand, battery):\n",
        "        super().__init__(type, brand)\n",
        "        self.battery = battery\n",
        "\n",
        "e_car = ElectricCar(\"Electric\", \"Tesla\", \"75kWh\")\n",
        "print(e_car.type, e_car.brand, e_car.battery)"
      ],
      "metadata": {
        "colab": {
          "base_uri": "https://localhost:8080/"
        },
        "id": "jXHzwwPI8wbO",
        "outputId": "fca8305e-b8d1-43e3-ba22-b0c807308702"
      },
      "execution_count": 3,
      "outputs": [
        {
          "output_type": "stream",
          "name": "stdout",
          "text": [
            "Electric Tesla 75kWh\n"
          ]
        }
      ]
    },
    {
      "cell_type": "markdown",
      "source": [
        "### Q4. Demonstrate polymorphism by creating a base class Bird with a method fly(). Create two derived classes Sparrow and Penguin that override the fly() method.\n"
      ],
      "metadata": {
        "id": "z6zsxArm80oJ"
      }
    },
    {
      "cell_type": "code",
      "source": [
        "class Bird:\n",
        "    def fly(self):\n",
        "        print(\"Birds can fly.\")\n",
        "\n",
        "class Sparrow(Bird):\n",
        "    def fly(self):\n",
        "        print(\"Sparrow flies high.\")\n",
        "\n",
        "class Penguin(Bird):\n",
        "    def fly(self):\n",
        "        print(\"Penguins can't fly.\")\n",
        "\n",
        "for bird in [Sparrow(), Penguin()]:\n",
        "    bird.fly()\n"
      ],
      "metadata": {
        "colab": {
          "base_uri": "https://localhost:8080/"
        },
        "id": "DEjuo9Lw86WQ",
        "outputId": "3a9fe729-2cdf-4473-9ccb-6b41bcbf8e87"
      },
      "execution_count": 4,
      "outputs": [
        {
          "output_type": "stream",
          "name": "stdout",
          "text": [
            "Sparrow flies high.\n",
            "Penguins can't fly.\n"
          ]
        }
      ]
    },
    {
      "cell_type": "markdown",
      "source": [
        "### Q5. Write a program to demonstrate encapsulation by creating a class BankAccount with private attributes balance and methods to deposit, withdraw, and check balance."
      ],
      "metadata": {
        "id": "DZiksE2Q9Ddv"
      }
    },
    {
      "cell_type": "code",
      "source": [
        "class BankAccount:\n",
        "    def __init__(self):\n",
        "        self.__balance = 0\n",
        "\n",
        "    def deposit(self, amount):\n",
        "        self.__balance += amount\n",
        "\n",
        "    def withdraw(self, amount):\n",
        "        if amount <= self.__balance:\n",
        "            self.__balance -= amount\n",
        "        else:\n",
        "            print(\"Insufficient balance\")\n",
        "\n",
        "    def check_balance(self):\n",
        "        return self.__balance\n",
        "\n",
        "acc = BankAccount()\n",
        "acc.deposit(1000)\n",
        "acc.withdraw(200)\n",
        "print(acc.check_balance())"
      ],
      "metadata": {
        "colab": {
          "base_uri": "https://localhost:8080/"
        },
        "id": "rK6WqdVfrL8y",
        "outputId": "a2c2dd46-5e80-44b8-c582-eb2a0fde51ee"
      },
      "execution_count": 5,
      "outputs": [
        {
          "output_type": "stream",
          "name": "stdout",
          "text": [
            "800\n"
          ]
        }
      ]
    },
    {
      "cell_type": "markdown",
      "source": [
        "### Q6.  Demonstrate runtime polymorphism using a method play() in a base class Instrument. Derive classes Guitar and Piano that implement their own version of play().\n",
        "\n",
        "\n"
      ],
      "metadata": {
        "id": "A0b-Pcpx9W5y"
      }
    },
    {
      "cell_type": "code",
      "source": [
        "class Instrument:\n",
        "    def play(self):\n",
        "        print(\"Instrument is playing.\")\n",
        "\n",
        "class Guitar(Instrument):\n",
        "    def play(self):\n",
        "        print(\"Strumming the guitar.\")\n",
        "\n",
        "class Piano(Instrument):\n",
        "    def play(self):\n",
        "        print(\"Playing the piano.\")\n",
        "\n",
        "for inst in [Guitar(), Piano()]:\n",
        "    inst.play()"
      ],
      "metadata": {
        "colab": {
          "base_uri": "https://localhost:8080/"
        },
        "id": "p99yv0A99clB",
        "outputId": "504f6d5e-a306-4059-9aa1-bf2742d8200d"
      },
      "execution_count": 6,
      "outputs": [
        {
          "output_type": "stream",
          "name": "stdout",
          "text": [
            "Strumming the guitar.\n",
            "Playing the piano.\n"
          ]
        }
      ]
    },
    {
      "cell_type": "markdown",
      "source": [
        "### Q7. Create a class MathOperations with a class method add_numbers() to add two numbers and a static method subtract_numbers() to subtract two numbers.\n"
      ],
      "metadata": {
        "id": "j377vClB9gu7"
      }
    },
    {
      "cell_type": "code",
      "source": [
        "class MathOperations:\n",
        "    @classmethod\n",
        "    def add_numbers(cls, a, b):\n",
        "        return a + b\n",
        "\n",
        "    @staticmethod\n",
        "    def subtract_numbers(a, b):\n",
        "        return a - b\n",
        "\n",
        "print(MathOperations.add_numbers(5, 3))\n",
        "print(MathOperations.subtract_numbers(5, 3))\n"
      ],
      "metadata": {
        "colab": {
          "base_uri": "https://localhost:8080/"
        },
        "id": "_cpMgcXO93_x",
        "outputId": "8b389096-aff9-42d4-b4d7-68057b4ff02b"
      },
      "execution_count": 7,
      "outputs": [
        {
          "output_type": "stream",
          "name": "stdout",
          "text": [
            "8\n",
            "2\n"
          ]
        }
      ]
    },
    {
      "cell_type": "markdown",
      "source": [
        "### Q8. Implement a class Person with a class method to count the total number of persons created.\n",
        "\n"
      ],
      "metadata": {
        "id": "LE8tCYUE9_QL"
      }
    },
    {
      "cell_type": "code",
      "source": [
        "class Person:\n",
        "    count = 0\n",
        "\n",
        "    def __init__(self, name):\n",
        "        self.name = name\n",
        "        Person.count += 1\n",
        "\n",
        "    @classmethod\n",
        "    def get_count(cls):\n",
        "        return cls.count\n",
        "\n",
        "p1 = Person(\"A\")\n",
        "p2 = Person(\"B\")\n",
        "print(Person.get_count())\n"
      ],
      "metadata": {
        "colab": {
          "base_uri": "https://localhost:8080/"
        },
        "id": "GSbBLfWJ-G-1",
        "outputId": "f548dd5d-d88c-4077-e193-87bb855cd09d"
      },
      "execution_count": 9,
      "outputs": [
        {
          "output_type": "stream",
          "name": "stdout",
          "text": [
            "2\n"
          ]
        }
      ]
    },
    {
      "cell_type": "markdown",
      "source": [
        "### Q9. Write a class Fraction with attributes numerator and denominator Override the str method to display the fraction as \"numerator/denominator\".\n",
        "     \n"
      ],
      "metadata": {
        "id": "1J_nO4wJ-jb5"
      }
    },
    {
      "cell_type": "code",
      "source": [
        "class Fraction:\n",
        "    def __init__(self, numerator, denominator):\n",
        "        self.numerator = numerator\n",
        "        self.denominator = denominator\n",
        "\n",
        "    def __str__(self):\n",
        "        return f\"{self.numerator}/{self.denominator}\"\n",
        "\n",
        "f = Fraction(3, 4)\n",
        "print(f)"
      ],
      "metadata": {
        "colab": {
          "base_uri": "https://localhost:8080/"
        },
        "id": "kBHj3y7z-qgf",
        "outputId": "118f7578-a4b4-483e-c952-7c1b2eb00e00"
      },
      "execution_count": 10,
      "outputs": [
        {
          "output_type": "stream",
          "name": "stdout",
          "text": [
            "3/4\n"
          ]
        }
      ]
    },
    {
      "cell_type": "markdown",
      "source": [
        "### Q10. Demonstrate operator overloading by creating a class Vector and overriding the add method.\n"
      ],
      "metadata": {
        "id": "rHQGLJ-G-_kq"
      }
    },
    {
      "cell_type": "code",
      "source": [
        "class Vector:\n",
        "    def __init__(self, x, y):\n",
        "        self.x = x\n",
        "        self.y = y\n",
        "\n",
        "    def __add__(self, other):\n",
        "        return Vector(self.x + other.x, self.y + other.y)\n",
        "\n",
        "    def __str__(self):\n",
        "        return f\"Vector({self.x}, {self.y})\"\n",
        "\n",
        "v1 = Vector(1, 2)\n",
        "v2 = Vector(3, 4)\n",
        "print(v1 + v2)"
      ],
      "metadata": {
        "colab": {
          "base_uri": "https://localhost:8080/"
        },
        "id": "q8Kh2yfN_K6f",
        "outputId": "30cd7e7a-b645-47a3-ec4e-f9e76639d759"
      },
      "execution_count": 11,
      "outputs": [
        {
          "output_type": "stream",
          "name": "stdout",
          "text": [
            "Vector(4, 6)\n"
          ]
        }
      ]
    },
    {
      "cell_type": "markdown",
      "source": [
        "###Q11. Create a class Person with attributes name and age. Add a method greet() that prints \"Hello, my name is {name} and I am {age} years old.\""
      ],
      "metadata": {
        "id": "fNi0ZgxEvN-X"
      }
    },
    {
      "cell_type": "code",
      "source": [
        "class Person:\n",
        "    def __init__(self, name, age):\n",
        "        self.name = name\n",
        "        self.age = age\n",
        "\n",
        "    def greet(self):\n",
        "        print(f\"Hello, my name is {self.name} and I am {self.age} years old.\")\n",
        "\n",
        "p = Person(\"Alice\", 30)\n",
        "p.greet()\n"
      ],
      "metadata": {
        "id": "h7aA1W2V_XIw",
        "colab": {
          "base_uri": "https://localhost:8080/"
        },
        "outputId": "fc27b248-6dc5-410d-d6a6-949afdba6284"
      },
      "execution_count": 12,
      "outputs": [
        {
          "output_type": "stream",
          "name": "stdout",
          "text": [
            "Hello, my name is Alice and I am 30 years old.\n"
          ]
        }
      ]
    },
    {
      "cell_type": "markdown",
      "source": [
        "### Q12. Implement a class Student with attributes name and grades. Create a method average_grade() to compute the average of the grades."
      ],
      "metadata": {
        "id": "pA_9RbZqO2Ir"
      }
    },
    {
      "cell_type": "code",
      "source": [
        "class Student:\n",
        "    def __init__(self, name, grades):\n",
        "        self.name = name\n",
        "        self.grades = grades\n",
        "\n",
        "    def average_grade(self):\n",
        "        return sum(self.grades) / len(self.grades)\n",
        "\n",
        "s = Student(\"John\", [80, 90, 85])\n",
        "print(s.average_grade())\n"
      ],
      "metadata": {
        "colab": {
          "base_uri": "https://localhost:8080/"
        },
        "id": "Qv9TE-dYO7tB",
        "outputId": "054b3242-8a65-4684-fcbf-27e7ab0bac6a"
      },
      "execution_count": 16,
      "outputs": [
        {
          "output_type": "stream",
          "name": "stdout",
          "text": [
            "85.0\n"
          ]
        }
      ]
    },
    {
      "cell_type": "markdown",
      "source": [
        "### Q13. Create a class Rectangle with methods set_dimensions() to set dimensions and area() to calculate area.\n"
      ],
      "metadata": {
        "id": "3L54T5AcO-v9"
      }
    },
    {
      "cell_type": "code",
      "source": [
        "class Rectangle:\n",
        "    def set_dimensions(self, width, height):\n",
        "        self.width = width\n",
        "        self.height = height\n",
        "\n",
        "    def area(self):\n",
        "        return self.width * self.height\n",
        "\n",
        "r = Rectangle()\n",
        "r.set_dimensions(4, 5)\n",
        "print(r.area())"
      ],
      "metadata": {
        "colab": {
          "base_uri": "https://localhost:8080/"
        },
        "id": "HRpJZc3dPC0M",
        "outputId": "753634fd-5dbc-43e9-c3f7-99c3814ff001"
      },
      "execution_count": 15,
      "outputs": [
        {
          "output_type": "stream",
          "name": "stdout",
          "text": [
            "20\n"
          ]
        }
      ]
    },
    {
      "cell_type": "markdown",
      "source": [
        "### Q14. Create a class Employee with a method calculate_salary() that computes salary from hours and rate. Create a derived class Manager that adds a bonus to the salary."
      ],
      "metadata": {
        "id": "Ko69iDcePFWe"
      }
    },
    {
      "cell_type": "code",
      "source": [
        "class Employee:\n",
        "    def calculate_salary(self, hours, rate):\n",
        "        return hours * rate\n",
        "\n",
        "class Manager(Employee):\n",
        "    def calculate_salary(self, hours, rate, bonus):\n",
        "        return super().calculate_salary(hours, rate) + bonus\n",
        "\n",
        "m = Manager()\n",
        "print(m.calculate_salary(40, 100, 500))"
      ],
      "metadata": {
        "colab": {
          "base_uri": "https://localhost:8080/"
        },
        "id": "6zyTdM_EPLkJ",
        "outputId": "835ba4ba-19c0-49fd-e7a7-588537fcbcbb"
      },
      "execution_count": 14,
      "outputs": [
        {
          "output_type": "stream",
          "name": "stdout",
          "text": [
            "4500\n"
          ]
        }
      ]
    },
    {
      "cell_type": "markdown",
      "source": [
        "### Q15. Create a class Product with attributes name, price, and quantity. Implement a method total_price() that calculates total price of the product."
      ],
      "metadata": {
        "id": "_jBZBzRiPOay"
      }
    },
    {
      "cell_type": "code",
      "source": [
        "class Product:\n",
        "    def __init__(self, name, price, quantity):\n",
        "        self.name = name\n",
        "        self.price = price\n",
        "        self.quantity = quantity\n",
        "\n",
        "    def total_price(self):\n",
        "        return self.price * self.quantity\n",
        "\n",
        "p = Product(\"Laptop\", 50000, 2)\n",
        "print(p.total_price())\n"
      ],
      "metadata": {
        "colab": {
          "base_uri": "https://localhost:8080/"
        },
        "id": "agEgaIeWPVfg",
        "outputId": "0f4c7fcb-56fb-4bc0-9b3e-59c09ecb1517"
      },
      "execution_count": 13,
      "outputs": [
        {
          "output_type": "stream",
          "name": "stdout",
          "text": [
            "100000\n"
          ]
        }
      ]
    },
    {
      "cell_type": "markdown",
      "source": [
        "### Q16. Create a class Animal with an abstract method sound(). Create two derived classes Cow and Sheep that implement the sound() method."
      ],
      "metadata": {
        "id": "3O94y4tPPdKw"
      }
    },
    {
      "cell_type": "code",
      "source": [
        "class Animal(ABC):\n",
        "    @abstractmethod\n",
        "    def sound(self):\n",
        "        pass\n",
        "\n",
        "class Cow(Animal):\n",
        "    def sound(self):\n",
        "        print(\"Moo\")\n",
        "\n",
        "class Sheep(Animal):\n",
        "    def sound(self):\n",
        "        print(\"Baa\")\n",
        "\n",
        "Cow().sound()\n",
        "Sheep().sound()"
      ],
      "metadata": {
        "colab": {
          "base_uri": "https://localhost:8080/"
        },
        "id": "Ep3eOYFSPiEM",
        "outputId": "6a1b153a-0b86-4fc6-e3ae-6e10a0713eb9"
      },
      "execution_count": 17,
      "outputs": [
        {
          "output_type": "stream",
          "name": "stdout",
          "text": [
            "Moo\n",
            "Baa\n"
          ]
        }
      ]
    },
    {
      "cell_type": "markdown",
      "source": [
        "### Q17. Create a class Book with attributes title, author, and year_published. Add a method get_book_info() that returns a formatted string with the book's details."
      ],
      "metadata": {
        "id": "_YJ0odPTPmD3"
      }
    },
    {
      "cell_type": "code",
      "source": [
        "class Book:\n",
        "    def __init__(self, title, author, year_published):\n",
        "        self.title = title\n",
        "        self.author = author\n",
        "        self.year_published = year_published\n",
        "\n",
        "    def get_book_info(self):\n",
        "        return f\"'{self.title}' by {self.author}, published in {self.year_published}\"\n",
        "\n",
        "b = Book(\"1984\", \"George Orwell\", 1949)\n",
        "print(b.get_book_info())"
      ],
      "metadata": {
        "colab": {
          "base_uri": "https://localhost:8080/"
        },
        "id": "tUSZwEuvPtMj",
        "outputId": "930665a4-845c-4a72-859d-0ba1934d1e51"
      },
      "execution_count": 18,
      "outputs": [
        {
          "output_type": "stream",
          "name": "stdout",
          "text": [
            "'1984' by George Orwell, published in 1949\n"
          ]
        }
      ]
    },
    {
      "cell_type": "markdown",
      "source": [
        "### Q18. Create a class House with attributes address and price.Create a derived class Mansion that adds an attribute number_of_rooms."
      ],
      "metadata": {
        "id": "19q9EBMbPwXy"
      }
    },
    {
      "cell_type": "code",
      "source": [
        "class House:\n",
        "    def __init__(self, address, price):\n",
        "        self.address = address\n",
        "        self.price = price\n",
        "\n",
        "class Mansion(House):\n",
        "    def __init__(self, address, price, number_of_rooms):\n",
        "        super().__init__(address, price)\n",
        "        self.number_of_rooms = number_of_rooms\n",
        "\n",
        "m = Mansion(\"123 Luxury St\", 50000000, 12)\n",
        "print(m.address, m.price, m.number_of_rooms)"
      ],
      "metadata": {
        "colab": {
          "base_uri": "https://localhost:8080/"
        },
        "id": "odHCfybmP2A6",
        "outputId": "e1070fef-b412-4341-f473-2d7d6c8322ef"
      },
      "execution_count": 19,
      "outputs": [
        {
          "output_type": "stream",
          "name": "stdout",
          "text": [
            "123 Luxury St 50000000 12\n"
          ]
        }
      ]
    }
  ]
}